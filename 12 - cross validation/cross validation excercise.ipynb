{
 "cells": [
  {
   "cell_type": "code",
   "execution_count": 1,
   "id": "0e009019",
   "metadata": {},
   "outputs": [],
   "source": [
    "from sklearn.linear_model import LogisticRegression\n",
    "from sklearn.svm import SVC\n",
    "from sklearn.ensemble import RandomForestClassifier\n",
    "from sklearn.tree import DecisionTreeClassifier\n",
    "import numpy as np\n",
    "from sklearn.datasets import load_iris\n",
    "\n",
    "iris = load_iris()"
   ]
  },
  {
   "cell_type": "code",
   "execution_count": 13,
   "id": "db98f3b2",
   "metadata": {},
   "outputs": [],
   "source": [
    "from sklearn.model_selection import train_test_split\n",
    "def model_score(model,data = iris):\n",
    "    X_train,X_test,y_train,y_test = train_test_split(data.data,data.target,test_size = 0.4,random_state=10)\n",
    "    model.fit(X_train,y_train)\n",
    "    return model.score(X_test,y_test)"
   ]
  },
  {
   "cell_type": "code",
   "execution_count": 14,
   "id": "f23ec952",
   "metadata": {},
   "outputs": [
    {
     "name": "stdout",
     "output_type": "stream",
     "text": [
      "LogisticRegression 0.9833333333333333\n",
      "SVC 0.95\n",
      "RandomForestClassifier 0.9666666666666667\n",
      "DecisionTreeClassifier 0.9166666666666666\n"
     ]
    }
   ],
   "source": [
    "print('LogisticRegression',model_score(LogisticRegression(max_iter = 500)))\n",
    "print('SVC',model_score(SVC()))\n",
    "print('RandomForestClassifier',model_score(RandomForestClassifier()))\n",
    "print('DecisionTreeClassifier',model_score(DecisionTreeClassifier()))\n"
   ]
  },
  {
   "cell_type": "code",
   "execution_count": 15,
   "id": "35644681",
   "metadata": {},
   "outputs": [
    {
     "data": {
      "text/plain": [
       "KFold(n_splits=3, random_state=None, shuffle=False)"
      ]
     },
     "execution_count": 15,
     "metadata": {},
     "output_type": "execute_result"
    }
   ],
   "source": [
    "from sklearn.model_selection import KFold\n",
    "kf = KFold(n_splits = 3)\n",
    "kf"
   ]
  },
  {
   "cell_type": "code",
   "execution_count": 26,
   "id": "075fd52f",
   "metadata": {},
   "outputs": [
    {
     "name": "stdout",
     "output_type": "stream",
     "text": [
      "[3 4 5 6] [0 1 2]\n",
      "[0 1 2 5 6] [3 4]\n",
      "[0 1 2 3 4] [5 6]\n"
     ]
    }
   ],
   "source": [
    "for a,b in kf.split([11,12,13,14,15,16,17]):\n",
    "    print(a,b)"
   ]
  },
  {
   "cell_type": "code",
   "execution_count": 59,
   "id": "0ec502e7",
   "metadata": {},
   "outputs": [],
   "source": [
    "from sklearn.model_selection import StratifiedKFold\n",
    "skf = StratifiedKFold(n_splits= 5)"
   ]
  },
  {
   "cell_type": "code",
   "execution_count": 60,
   "id": "d894f3b9",
   "metadata": {},
   "outputs": [],
   "source": [
    "def model_score2(model,a,b,c,d):\n",
    "#     X_train,X_test,y_train,y_test = train_test_split(data.data,data.target,test_size = 0.4,random_state=10)\n",
    "    model.fit(a,c)\n",
    "    return model.score(b,d)"
   ]
  },
  {
   "cell_type": "code",
   "execution_count": 61,
   "id": "653548bc",
   "metadata": {},
   "outputs": [],
   "source": [
    "score_l = []\n",
    "score_svm = []\n",
    "score_rf = []\n",
    "score_dt = []\n",
    "digits = iris\n",
    "for a,b in skf.split(digits.data,digits.target):\n",
    "    X_train,X_test,y_train,y_test = digits.data[a],digits.data[b],\\\n",
    "                                    digits.target[a],digits.target[b]\n",
    "    \n",
    "#     print(X_train[:5],y_train[:5])\n",
    "    score_l.append(model_score2(LogisticRegression(max_iter=200),X_train,X_test,y_train,y_test))\n",
    "    score_svm.append(model_score2(SVC(),X_train,X_test,y_train,y_test))\n",
    "    score_rf.append(model_score2(RandomForestClassifier(n_estimators=50),X_train,X_test,y_train,y_test))\n",
    "    score_dt.append(model_score2(DecisionTreeClassifier(),X_train,X_test,y_train,y_test))    "
   ]
  },
  {
   "cell_type": "code",
   "execution_count": 62,
   "id": "cec09cd2",
   "metadata": {},
   "outputs": [
    {
     "data": {
      "text/plain": [
       "0.9733333333333334"
      ]
     },
     "execution_count": 62,
     "metadata": {},
     "output_type": "execute_result"
    }
   ],
   "source": [
    "from statistics import mean\n",
    "mean(score_l)"
   ]
  },
  {
   "cell_type": "code",
   "execution_count": 63,
   "id": "b2f0ffa6",
   "metadata": {},
   "outputs": [
    {
     "data": {
      "text/plain": [
       "0.9666666666666667"
      ]
     },
     "execution_count": 63,
     "metadata": {},
     "output_type": "execute_result"
    }
   ],
   "source": [
    "mean(score_svm)"
   ]
  },
  {
   "cell_type": "code",
   "execution_count": 64,
   "id": "eb1fd0e3",
   "metadata": {},
   "outputs": [
    {
     "data": {
      "text/plain": [
       "0.9666666666666667"
      ]
     },
     "execution_count": 64,
     "metadata": {},
     "output_type": "execute_result"
    }
   ],
   "source": [
    "mean(score_rf)"
   ]
  },
  {
   "cell_type": "code",
   "execution_count": 65,
   "id": "c07d41c3",
   "metadata": {},
   "outputs": [
    {
     "data": {
      "text/plain": [
       "0.9666666666666667"
      ]
     },
     "execution_count": 65,
     "metadata": {},
     "output_type": "execute_result"
    }
   ],
   "source": [
    "mean(score_dt)"
   ]
  },
  {
   "cell_type": "code",
   "execution_count": 67,
   "id": "b5409ed0",
   "metadata": {},
   "outputs": [
    {
     "data": {
      "text/plain": [
       "array([0.96666667, 1.        , 0.93333333, 0.96666667, 1.        ])"
      ]
     },
     "execution_count": 67,
     "metadata": {},
     "output_type": "execute_result"
    }
   ],
   "source": [
    "from sklearn.model_selection import cross_val_score\n",
    "cross_val_score(LogisticRegression(max_iter=200),iris.data,iris.target)"
   ]
  },
  {
   "cell_type": "code",
   "execution_count": 68,
   "id": "9d18df8e",
   "metadata": {},
   "outputs": [
    {
     "data": {
      "text/plain": [
       "array([0.96666667, 0.96666667, 0.96666667, 0.93333333, 1.        ])"
      ]
     },
     "execution_count": 68,
     "metadata": {},
     "output_type": "execute_result"
    }
   ],
   "source": [
    "cross_val_score(SVC(),iris.data,iris.target)"
   ]
  },
  {
   "cell_type": "code",
   "execution_count": 69,
   "id": "f959b058",
   "metadata": {},
   "outputs": [
    {
     "data": {
      "text/plain": [
       "array([0.96666667, 0.96666667, 0.93333333, 0.93333333, 1.        ])"
      ]
     },
     "execution_count": 69,
     "metadata": {},
     "output_type": "execute_result"
    }
   ],
   "source": [
    "cross_val_score(RandomForestClassifier(),iris.data,iris.target)"
   ]
  },
  {
   "cell_type": "code",
   "execution_count": null,
   "id": "7775e0f9",
   "metadata": {},
   "outputs": [],
   "source": [
    "cross_val_score()"
   ]
  }
 ],
 "metadata": {
  "kernelspec": {
   "display_name": "Python 3 (ipykernel)",
   "language": "python",
   "name": "python3"
  },
  "language_info": {
   "codemirror_mode": {
    "name": "ipython",
    "version": 3
   },
   "file_extension": ".py",
   "mimetype": "text/x-python",
   "name": "python",
   "nbconvert_exporter": "python",
   "pygments_lexer": "ipython3",
   "version": "3.9.4"
  }
 },
 "nbformat": 4,
 "nbformat_minor": 5
}
