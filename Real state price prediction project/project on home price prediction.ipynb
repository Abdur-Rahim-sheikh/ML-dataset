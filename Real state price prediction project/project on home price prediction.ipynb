{
 "cells": [
  {
   "cell_type": "markdown",
   "id": "31aac5b1",
   "metadata": {},
   "source": [
    "<h1> Lecture 1 and 2(Data Cleaning)</h1>"
   ]
  },
  {
   "cell_type": "code",
   "execution_count": 2,
   "id": "e488c63f",
   "metadata": {},
   "outputs": [],
   "source": [
    "import pandas as pd\n",
    "import numpy as np\n",
    "from matplotlib import pyplot as plt\n",
    "import matplotlib\n",
    "matplotlib.rcParams['figure.figsize']=(20,10)"
   ]
  },
  {
   "cell_type": "code",
   "execution_count": 3,
   "id": "02c8783d",
   "metadata": {},
   "outputs": [
    {
     "data": {
      "text/html": [
       "<div>\n",
       "<style scoped>\n",
       "    .dataframe tbody tr th:only-of-type {\n",
       "        vertical-align: middle;\n",
       "    }\n",
       "\n",
       "    .dataframe tbody tr th {\n",
       "        vertical-align: top;\n",
       "    }\n",
       "\n",
       "    .dataframe thead th {\n",
       "        text-align: right;\n",
       "    }\n",
       "</style>\n",
       "<table border=\"1\" class=\"dataframe\">\n",
       "  <thead>\n",
       "    <tr style=\"text-align: right;\">\n",
       "      <th></th>\n",
       "      <th>area_type</th>\n",
       "      <th>availability</th>\n",
       "      <th>location</th>\n",
       "      <th>size</th>\n",
       "      <th>society</th>\n",
       "      <th>total_sqft</th>\n",
       "      <th>bath</th>\n",
       "      <th>balcony</th>\n",
       "      <th>price</th>\n",
       "    </tr>\n",
       "  </thead>\n",
       "  <tbody>\n",
       "    <tr>\n",
       "      <th>0</th>\n",
       "      <td>Super built-up  Area</td>\n",
       "      <td>19-Dec</td>\n",
       "      <td>Electronic City Phase II</td>\n",
       "      <td>2 BHK</td>\n",
       "      <td>Coomee</td>\n",
       "      <td>1056</td>\n",
       "      <td>2.0</td>\n",
       "      <td>1.0</td>\n",
       "      <td>39.07</td>\n",
       "    </tr>\n",
       "    <tr>\n",
       "      <th>1</th>\n",
       "      <td>Plot  Area</td>\n",
       "      <td>Ready To Move</td>\n",
       "      <td>Chikka Tirupathi</td>\n",
       "      <td>4 Bedroom</td>\n",
       "      <td>Theanmp</td>\n",
       "      <td>2600</td>\n",
       "      <td>5.0</td>\n",
       "      <td>3.0</td>\n",
       "      <td>120.00</td>\n",
       "    </tr>\n",
       "    <tr>\n",
       "      <th>2</th>\n",
       "      <td>Built-up  Area</td>\n",
       "      <td>Ready To Move</td>\n",
       "      <td>Uttarahalli</td>\n",
       "      <td>3 BHK</td>\n",
       "      <td>NaN</td>\n",
       "      <td>1440</td>\n",
       "      <td>2.0</td>\n",
       "      <td>3.0</td>\n",
       "      <td>62.00</td>\n",
       "    </tr>\n",
       "    <tr>\n",
       "      <th>3</th>\n",
       "      <td>Super built-up  Area</td>\n",
       "      <td>Ready To Move</td>\n",
       "      <td>Lingadheeranahalli</td>\n",
       "      <td>3 BHK</td>\n",
       "      <td>Soiewre</td>\n",
       "      <td>1521</td>\n",
       "      <td>3.0</td>\n",
       "      <td>1.0</td>\n",
       "      <td>95.00</td>\n",
       "    </tr>\n",
       "    <tr>\n",
       "      <th>4</th>\n",
       "      <td>Super built-up  Area</td>\n",
       "      <td>Ready To Move</td>\n",
       "      <td>Kothanur</td>\n",
       "      <td>2 BHK</td>\n",
       "      <td>NaN</td>\n",
       "      <td>1200</td>\n",
       "      <td>2.0</td>\n",
       "      <td>1.0</td>\n",
       "      <td>51.00</td>\n",
       "    </tr>\n",
       "  </tbody>\n",
       "</table>\n",
       "</div>"
      ],
      "text/plain": [
       "              area_type   availability                  location       size  \\\n",
       "0  Super built-up  Area         19-Dec  Electronic City Phase II      2 BHK   \n",
       "1            Plot  Area  Ready To Move          Chikka Tirupathi  4 Bedroom   \n",
       "2        Built-up  Area  Ready To Move               Uttarahalli      3 BHK   \n",
       "3  Super built-up  Area  Ready To Move        Lingadheeranahalli      3 BHK   \n",
       "4  Super built-up  Area  Ready To Move                  Kothanur      2 BHK   \n",
       "\n",
       "   society total_sqft  bath  balcony   price  \n",
       "0  Coomee        1056   2.0      1.0   39.07  \n",
       "1  Theanmp       2600   5.0      3.0  120.00  \n",
       "2      NaN       1440   2.0      3.0   62.00  \n",
       "3  Soiewre       1521   3.0      1.0   95.00  \n",
       "4      NaN       1200   2.0      1.0   51.00  "
      ]
     },
     "execution_count": 3,
     "metadata": {},
     "output_type": "execute_result"
    }
   ],
   "source": [
    "df = pd.read_csv('Bengaluru_House_Data.csv')\n",
    "df.head()"
   ]
  },
  {
   "cell_type": "code",
   "execution_count": 4,
   "id": "6b6d6c23",
   "metadata": {},
   "outputs": [],
   "source": [
    "df2 = df.drop(['availability','area_type','balcony','society'],axis='columns')"
   ]
  },
  {
   "cell_type": "code",
   "execution_count": 5,
   "id": "1f4663ad",
   "metadata": {},
   "outputs": [
    {
     "data": {
      "text/plain": [
       "(13320, 5)"
      ]
     },
     "execution_count": 5,
     "metadata": {},
     "output_type": "execute_result"
    }
   ],
   "source": [
    "df2.shape"
   ]
  },
  {
   "cell_type": "code",
   "execution_count": 6,
   "id": "74c1daec",
   "metadata": {},
   "outputs": [],
   "source": [
    "df2.dropna(inplace = True)"
   ]
  },
  {
   "cell_type": "code",
   "execution_count": 7,
   "id": "91ef9d4b",
   "metadata": {},
   "outputs": [
    {
     "data": {
      "text/plain": [
       "array(['2 BHK', '4 Bedroom', '3 BHK', '4 BHK', '6 Bedroom', '3 Bedroom',\n",
       "       '1 BHK', '1 RK', '1 Bedroom', '8 Bedroom', '2 Bedroom',\n",
       "       '7 Bedroom', '5 BHK', '7 BHK', '6 BHK', '5 Bedroom', '11 BHK',\n",
       "       '9 BHK', '9 Bedroom', '27 BHK', '10 Bedroom', '11 Bedroom',\n",
       "       '10 BHK', '19 BHK', '16 BHK', '43 Bedroom', '14 BHK', '8 BHK',\n",
       "       '12 Bedroom', '13 BHK', '18 Bedroom'], dtype=object)"
      ]
     },
     "execution_count": 7,
     "metadata": {},
     "output_type": "execute_result"
    }
   ],
   "source": [
    "df2['size'].unique()"
   ]
  },
  {
   "cell_type": "code",
   "execution_count": 8,
   "id": "49897356",
   "metadata": {},
   "outputs": [
    {
     "data": {
      "text/html": [
       "<div>\n",
       "<style scoped>\n",
       "    .dataframe tbody tr th:only-of-type {\n",
       "        vertical-align: middle;\n",
       "    }\n",
       "\n",
       "    .dataframe tbody tr th {\n",
       "        vertical-align: top;\n",
       "    }\n",
       "\n",
       "    .dataframe thead th {\n",
       "        text-align: right;\n",
       "    }\n",
       "</style>\n",
       "<table border=\"1\" class=\"dataframe\">\n",
       "  <thead>\n",
       "    <tr style=\"text-align: right;\">\n",
       "      <th></th>\n",
       "      <th>location</th>\n",
       "      <th>size</th>\n",
       "      <th>total_sqft</th>\n",
       "      <th>bath</th>\n",
       "      <th>price</th>\n",
       "      <th>bedrooms</th>\n",
       "    </tr>\n",
       "  </thead>\n",
       "  <tbody>\n",
       "    <tr>\n",
       "      <th>0</th>\n",
       "      <td>Electronic City Phase II</td>\n",
       "      <td>2 BHK</td>\n",
       "      <td>1056</td>\n",
       "      <td>2.0</td>\n",
       "      <td>39.07</td>\n",
       "      <td>2</td>\n",
       "    </tr>\n",
       "    <tr>\n",
       "      <th>1</th>\n",
       "      <td>Chikka Tirupathi</td>\n",
       "      <td>4 Bedroom</td>\n",
       "      <td>2600</td>\n",
       "      <td>5.0</td>\n",
       "      <td>120.00</td>\n",
       "      <td>4</td>\n",
       "    </tr>\n",
       "    <tr>\n",
       "      <th>2</th>\n",
       "      <td>Uttarahalli</td>\n",
       "      <td>3 BHK</td>\n",
       "      <td>1440</td>\n",
       "      <td>2.0</td>\n",
       "      <td>62.00</td>\n",
       "      <td>3</td>\n",
       "    </tr>\n",
       "    <tr>\n",
       "      <th>3</th>\n",
       "      <td>Lingadheeranahalli</td>\n",
       "      <td>3 BHK</td>\n",
       "      <td>1521</td>\n",
       "      <td>3.0</td>\n",
       "      <td>95.00</td>\n",
       "      <td>3</td>\n",
       "    </tr>\n",
       "    <tr>\n",
       "      <th>4</th>\n",
       "      <td>Kothanur</td>\n",
       "      <td>2 BHK</td>\n",
       "      <td>1200</td>\n",
       "      <td>2.0</td>\n",
       "      <td>51.00</td>\n",
       "      <td>2</td>\n",
       "    </tr>\n",
       "  </tbody>\n",
       "</table>\n",
       "</div>"
      ],
      "text/plain": [
       "                   location       size total_sqft  bath   price  bedrooms\n",
       "0  Electronic City Phase II      2 BHK       1056   2.0   39.07         2\n",
       "1          Chikka Tirupathi  4 Bedroom       2600   5.0  120.00         4\n",
       "2               Uttarahalli      3 BHK       1440   2.0   62.00         3\n",
       "3        Lingadheeranahalli      3 BHK       1521   3.0   95.00         3\n",
       "4                  Kothanur      2 BHK       1200   2.0   51.00         2"
      ]
     },
     "execution_count": 8,
     "metadata": {},
     "output_type": "execute_result"
    }
   ],
   "source": [
    "df2['bedrooms'] = df2['size'].apply(lambda x: int(x.split(' ')[0]))\n",
    "df2.head()"
   ]
  },
  {
   "cell_type": "code",
   "execution_count": 9,
   "id": "7d491158",
   "metadata": {},
   "outputs": [],
   "source": [
    "df2.drop(['size'],axis = 'columns',inplace = True)"
   ]
  },
  {
   "cell_type": "code",
   "execution_count": 10,
   "id": "14ec9c24",
   "metadata": {},
   "outputs": [
    {
     "data": {
      "text/html": [
       "<div>\n",
       "<style scoped>\n",
       "    .dataframe tbody tr th:only-of-type {\n",
       "        vertical-align: middle;\n",
       "    }\n",
       "\n",
       "    .dataframe tbody tr th {\n",
       "        vertical-align: top;\n",
       "    }\n",
       "\n",
       "    .dataframe thead th {\n",
       "        text-align: right;\n",
       "    }\n",
       "</style>\n",
       "<table border=\"1\" class=\"dataframe\">\n",
       "  <thead>\n",
       "    <tr style=\"text-align: right;\">\n",
       "      <th></th>\n",
       "      <th>location</th>\n",
       "      <th>total_sqft</th>\n",
       "      <th>bath</th>\n",
       "      <th>price</th>\n",
       "      <th>bedrooms</th>\n",
       "    </tr>\n",
       "  </thead>\n",
       "  <tbody>\n",
       "    <tr>\n",
       "      <th>1718</th>\n",
       "      <td>2Electronic City Phase II</td>\n",
       "      <td>8000</td>\n",
       "      <td>27.0</td>\n",
       "      <td>230.0</td>\n",
       "      <td>27</td>\n",
       "    </tr>\n",
       "    <tr>\n",
       "      <th>4684</th>\n",
       "      <td>Munnekollal</td>\n",
       "      <td>2400</td>\n",
       "      <td>40.0</td>\n",
       "      <td>660.0</td>\n",
       "      <td>43</td>\n",
       "    </tr>\n",
       "  </tbody>\n",
       "</table>\n",
       "</div>"
      ],
      "text/plain": [
       "                       location total_sqft  bath  price  bedrooms\n",
       "1718  2Electronic City Phase II       8000  27.0  230.0        27\n",
       "4684                Munnekollal       2400  40.0  660.0        43"
      ]
     },
     "execution_count": 10,
     "metadata": {},
     "output_type": "execute_result"
    }
   ],
   "source": [
    "df2[df2.bedrooms>20]"
   ]
  },
  {
   "cell_type": "code",
   "execution_count": 11,
   "id": "2c2ab3e2",
   "metadata": {},
   "outputs": [],
   "source": [
    "def range_to_float(x):\n",
    "    tokens = x.split('-')\n",
    "    if len(tokens) == 2:\n",
    "        return (float(tokens[0])+float(tokens[1]))/2\n",
    "    try:\n",
    "        return float(x)\n",
    "    except:\n",
    "        return None"
   ]
  },
  {
   "cell_type": "code",
   "execution_count": 12,
   "id": "e39bc482",
   "metadata": {},
   "outputs": [],
   "source": [
    "df2['total_sqft'] = df2['total_sqft'].apply(range_to_float)"
   ]
  },
  {
   "cell_type": "code",
   "execution_count": 13,
   "id": "64cbe6e8",
   "metadata": {},
   "outputs": [],
   "source": [
    "df2.dropna(inplace=True)"
   ]
  },
  {
   "cell_type": "markdown",
   "id": "2c2d9660",
   "metadata": {},
   "source": [
    "<h1>Lecture 3 (feature engineering)</h1>"
   ]
  },
  {
   "cell_type": "code",
   "execution_count": 14,
   "id": "62b6699a",
   "metadata": {},
   "outputs": [],
   "source": [
    "df2['price_per_sqft'] = df2['price']/df2['total_sqft']"
   ]
  },
  {
   "cell_type": "code",
   "execution_count": 15,
   "id": "95a0386c",
   "metadata": {},
   "outputs": [
    {
     "data": {
      "text/html": [
       "<div>\n",
       "<style scoped>\n",
       "    .dataframe tbody tr th:only-of-type {\n",
       "        vertical-align: middle;\n",
       "    }\n",
       "\n",
       "    .dataframe tbody tr th {\n",
       "        vertical-align: top;\n",
       "    }\n",
       "\n",
       "    .dataframe thead th {\n",
       "        text-align: right;\n",
       "    }\n",
       "</style>\n",
       "<table border=\"1\" class=\"dataframe\">\n",
       "  <thead>\n",
       "    <tr style=\"text-align: right;\">\n",
       "      <th></th>\n",
       "      <th>location</th>\n",
       "      <th>total_sqft</th>\n",
       "      <th>bath</th>\n",
       "      <th>price</th>\n",
       "      <th>bedrooms</th>\n",
       "      <th>price_per_sqft</th>\n",
       "    </tr>\n",
       "  </thead>\n",
       "  <tbody>\n",
       "    <tr>\n",
       "      <th>0</th>\n",
       "      <td>Electronic City Phase II</td>\n",
       "      <td>1056.0</td>\n",
       "      <td>2.0</td>\n",
       "      <td>39.07</td>\n",
       "      <td>2</td>\n",
       "      <td>0.036998</td>\n",
       "    </tr>\n",
       "    <tr>\n",
       "      <th>1</th>\n",
       "      <td>Chikka Tirupathi</td>\n",
       "      <td>2600.0</td>\n",
       "      <td>5.0</td>\n",
       "      <td>120.00</td>\n",
       "      <td>4</td>\n",
       "      <td>0.046154</td>\n",
       "    </tr>\n",
       "    <tr>\n",
       "      <th>2</th>\n",
       "      <td>Uttarahalli</td>\n",
       "      <td>1440.0</td>\n",
       "      <td>2.0</td>\n",
       "      <td>62.00</td>\n",
       "      <td>3</td>\n",
       "      <td>0.043056</td>\n",
       "    </tr>\n",
       "    <tr>\n",
       "      <th>3</th>\n",
       "      <td>Lingadheeranahalli</td>\n",
       "      <td>1521.0</td>\n",
       "      <td>3.0</td>\n",
       "      <td>95.00</td>\n",
       "      <td>3</td>\n",
       "      <td>0.062459</td>\n",
       "    </tr>\n",
       "    <tr>\n",
       "      <th>4</th>\n",
       "      <td>Kothanur</td>\n",
       "      <td>1200.0</td>\n",
       "      <td>2.0</td>\n",
       "      <td>51.00</td>\n",
       "      <td>2</td>\n",
       "      <td>0.042500</td>\n",
       "    </tr>\n",
       "  </tbody>\n",
       "</table>\n",
       "</div>"
      ],
      "text/plain": [
       "                   location  total_sqft  bath   price  bedrooms  \\\n",
       "0  Electronic City Phase II      1056.0   2.0   39.07         2   \n",
       "1          Chikka Tirupathi      2600.0   5.0  120.00         4   \n",
       "2               Uttarahalli      1440.0   2.0   62.00         3   \n",
       "3        Lingadheeranahalli      1521.0   3.0   95.00         3   \n",
       "4                  Kothanur      1200.0   2.0   51.00         2   \n",
       "\n",
       "   price_per_sqft  \n",
       "0        0.036998  \n",
       "1        0.046154  \n",
       "2        0.043056  \n",
       "3        0.062459  \n",
       "4        0.042500  "
      ]
     },
     "execution_count": 15,
     "metadata": {},
     "output_type": "execute_result"
    }
   ],
   "source": [
    "df2.head()"
   ]
  },
  {
   "cell_type": "code",
   "execution_count": 16,
   "id": "018d1a63",
   "metadata": {},
   "outputs": [
    {
     "data": {
      "text/plain": [
       "location\n",
       "Whitefield               533\n",
       "Sarjapur  Road           392\n",
       "Electronic City          304\n",
       "Kanakpura Road           264\n",
       "Thanisandra              235\n",
       "                        ... \n",
       "1 Giri Nagar               1\n",
       "Kanakapura Road,           1\n",
       "Kanakapura main  Road      1\n",
       "Kannur                     1\n",
       "whitefiled                 1\n",
       "Name: location, Length: 1287, dtype: int64"
      ]
     },
     "execution_count": 16,
     "metadata": {},
     "output_type": "execute_result"
    }
   ],
   "source": [
    "df2.location = df2.location.apply(lambda x: x.strip())\n",
    "all_location = df2.groupby('location')['location'].agg('count').sort_values(ascending=False)\n",
    "all_location"
   ]
  },
  {
   "cell_type": "code",
   "execution_count": 17,
   "id": "d57b863b",
   "metadata": {},
   "outputs": [],
   "source": [
    "locations_few = all_location[all_location<=10]"
   ]
  },
  {
   "cell_type": "code",
   "execution_count": 18,
   "id": "e08d28ff",
   "metadata": {},
   "outputs": [],
   "source": [
    "df2.location = df2.location.apply(\n",
    "    lambda x: 'other' if x in locations_few else x\n",
    ")"
   ]
  },
  {
   "cell_type": "code",
   "execution_count": 19,
   "id": "1b02c099",
   "metadata": {},
   "outputs": [
    {
     "data": {
      "text/plain": [
       "241"
      ]
     },
     "execution_count": 19,
     "metadata": {},
     "output_type": "execute_result"
    }
   ],
   "source": [
    "len(df2.location.unique())"
   ]
  },
  {
   "cell_type": "markdown",
   "id": "7583697c",
   "metadata": {},
   "source": [
    "<h1> Lecture 4 (outlier removal)</h1>"
   ]
  },
  {
   "cell_type": "code",
   "execution_count": 20,
   "id": "56367933",
   "metadata": {},
   "outputs": [
    {
     "data": {
      "text/plain": [
       "((744, 6), (13200, 6))"
      ]
     },
     "execution_count": 20,
     "metadata": {},
     "output_type": "execute_result"
    }
   ],
   "source": [
    "df2[df2.total_sqft/df2.bedrooms<300].shape,df2.shape"
   ]
  },
  {
   "cell_type": "code",
   "execution_count": 21,
   "id": "908fdce2",
   "metadata": {},
   "outputs": [],
   "source": [
    "df3 = df2[~(df2.total_sqft/df2.bedrooms<300)]"
   ]
  },
  {
   "cell_type": "code",
   "execution_count": 27,
   "id": "81131567",
   "metadata": {
    "scrolled": false
   },
   "outputs": [
    {
     "data": {
      "text/plain": [
       "0        Electronic City Phase II\n",
       "1                Chikka Tirupathi\n",
       "2                     Uttarahalli\n",
       "3              Lingadheeranahalli\n",
       "4                        Kothanur\n",
       "                   ...           \n",
       "13315                  Whitefield\n",
       "13316                       other\n",
       "13317       Raja Rajeshwari Nagar\n",
       "13318             Padmanabhanagar\n",
       "13319                Doddathoguru\n",
       "Name: location, Length: 12456, dtype: object"
      ]
     },
     "execution_count": 27,
     "metadata": {},
     "output_type": "execute_result"
    }
   ],
   "source": [
    "df3.location"
   ]
  },
  {
   "cell_type": "code",
   "execution_count": 83,
   "id": "7bd3690c",
   "metadata": {},
   "outputs": [],
   "source": [
    "def remove5percent(df):\n",
    "    df_out = pd.DataFrame()\n",
    "    \n",
    "    for key,subdf in df.groupby('location'):\n",
    "        mean = np.mean(subdf.price_per_sqft)\n",
    "        std = np.std(subdf.price_per_sqft)\n",
    "        left = subdf[(subdf.price_per_sqft>(mean-std)) & (subdf.price_per_sqft<=(mean+std))]\n",
    "        df_out = pd.concat([df_out,left],ignore_index = True)\n",
    "    \n",
    "    return df_out"
   ]
  },
  {
   "cell_type": "code",
   "execution_count": 84,
   "id": "7d8851dd",
   "metadata": {},
   "outputs": [
    {
     "data": {
      "text/plain": [
       "((10242, 6), (12456, 6))"
      ]
     },
     "execution_count": 84,
     "metadata": {},
     "output_type": "execute_result"
    }
   ],
   "source": [
    "df4 = remove5percent(df3)\n",
    "df4.shape,df3.shape"
   ]
  },
  {
   "cell_type": "code",
   "execution_count": 85,
   "id": "72456f63",
   "metadata": {},
   "outputs": [
    {
     "data": {
      "image/png": "[encoded data removed]",
      "text/plain": [
       "<Figure size 1080x720 with 1 Axes>"
      ]
     },
     "metadata": {
      "needs_background": "light"
     },
     "output_type": "display_data"
    }
   ],
   "source": [
    "def plot_scatter_chart(df,location):\n",
    "    bedroom2 = df[(df.location == location) & (df.bedrooms==2)]\n",
    "    bedroom3 = df[(df.location == location) & (df.bedrooms==3)]\n",
    "    \n",
    "    matplotlib.rcParams['figure.figsize'] = (15,10)\n",
    "    \n",
    "    plt.scatter(bedroom2.total_sqft,bedroom2.price,color='blue',label='2 bedroom')\n",
    "    plt.scatter(bedroom3.total_sqft,bedroom3.price,color='green',label='3 bedroom',marker='^')\n",
    "    plt.xlabel('Area (square foot)')\n",
    "    plt.ylabel('price (lakh)')\n",
    "    plt.legend()\n",
    "\n",
    "plot_scatter_chart(df4,'Uttarahalli')"
   ]
  },
  {
   "cell_type": "code",
   "execution_count": 86,
   "id": "369fba26",
   "metadata": {},
   "outputs": [
    {
     "data": {
      "text/html": [
       "<div>\n",
       "<style scoped>\n",
       "    .dataframe tbody tr th:only-of-type {\n",
       "        vertical-align: middle;\n",
       "    }\n",
       "\n",
       "    .dataframe tbody tr th {\n",
       "        vertical-align: top;\n",
       "    }\n",
       "\n",
       "    .dataframe thead th {\n",
       "        text-align: right;\n",
       "    }\n",
       "</style>\n",
       "<table border=\"1\" class=\"dataframe\">\n",
       "  <thead>\n",
       "    <tr style=\"text-align: right;\">\n",
       "      <th></th>\n",
       "      <th>location</th>\n",
       "      <th>total_sqft</th>\n",
       "      <th>bath</th>\n",
       "      <th>price</th>\n",
       "      <th>bedrooms</th>\n",
       "      <th>price_per_sqft</th>\n",
       "    </tr>\n",
       "  </thead>\n",
       "  <tbody>\n",
       "    <tr>\n",
       "      <th>0</th>\n",
       "      <td>1st Block Jayanagar</td>\n",
       "      <td>2850.0</td>\n",
       "      <td>4.0</td>\n",
       "      <td>428.0</td>\n",
       "      <td>4</td>\n",
       "      <td>0.150175</td>\n",
       "    </tr>\n",
       "    <tr>\n",
       "      <th>1</th>\n",
       "      <td>1st Block Jayanagar</td>\n",
       "      <td>1630.0</td>\n",
       "      <td>3.0</td>\n",
       "      <td>194.0</td>\n",
       "      <td>3</td>\n",
       "      <td>0.119018</td>\n",
       "    </tr>\n",
       "    <tr>\n",
       "      <th>2</th>\n",
       "      <td>1st Block Jayanagar</td>\n",
       "      <td>1875.0</td>\n",
       "      <td>2.0</td>\n",
       "      <td>235.0</td>\n",
       "      <td>3</td>\n",
       "      <td>0.125333</td>\n",
       "    </tr>\n",
       "    <tr>\n",
       "      <th>3</th>\n",
       "      <td>1st Block Jayanagar</td>\n",
       "      <td>1200.0</td>\n",
       "      <td>2.0</td>\n",
       "      <td>130.0</td>\n",
       "      <td>3</td>\n",
       "      <td>0.108333</td>\n",
       "    </tr>\n",
       "    <tr>\n",
       "      <th>4</th>\n",
       "      <td>1st Block Jayanagar</td>\n",
       "      <td>1235.0</td>\n",
       "      <td>2.0</td>\n",
       "      <td>148.0</td>\n",
       "      <td>2</td>\n",
       "      <td>0.119838</td>\n",
       "    </tr>\n",
       "  </tbody>\n",
       "</table>\n",
       "</div>"
      ],
      "text/plain": [
       "              location  total_sqft  bath  price  bedrooms  price_per_sqft\n",
       "0  1st Block Jayanagar      2850.0   4.0  428.0         4        0.150175\n",
       "1  1st Block Jayanagar      1630.0   3.0  194.0         3        0.119018\n",
       "2  1st Block Jayanagar      1875.0   2.0  235.0         3        0.125333\n",
       "3  1st Block Jayanagar      1200.0   2.0  130.0         3        0.108333\n",
       "4  1st Block Jayanagar      1235.0   2.0  148.0         2        0.119838"
      ]
     },
     "execution_count": 86,
     "metadata": {},
     "output_type": "execute_result"
    }
   ],
   "source": [
    "df4.head()"
   ]
  },
  {
   "cell_type": "code",
   "execution_count": 87,
   "id": "34310835",
   "metadata": {},
   "outputs": [],
   "source": [
    "def remove_rooms_outliers(df):\n",
    "    exclude_indices = np.array([])\n",
    "    for location,location_df in df.groupby('location'):\n",
    "        room_stats = dict()\n",
    "        for room_number,room_df in location_df.groupby('bedrooms'):\n",
    "            room_stats[room_number] = {\n",
    "                'mean': np.mean(room_df.price_per_sqft),\n",
    "                'std': np.std(room_df.price_per_sqft),\n",
    "                'count': room_df.shape[0]\n",
    "            }\n",
    "            \n",
    "        for room_number,room_df in location_df.groupby('bedrooms'):\n",
    "            prev_stat = room_stats.get(room_number-1)\n",
    "            if prev_stat and prev_stat['count']>5:\n",
    "                exclude_indices = np.append(exclude_indices,room_df[room_df.price_per_sqft<(prev_stat['mean'])].index.values)\n",
    "    \n",
    "    return df.drop(exclude_indices,axis = 'index')\n",
    "            "
   ]
  },
  {
   "cell_type": "code",
   "execution_count": 88,
   "id": "9fe63159",
   "metadata": {},
   "outputs": [
    {
     "data": {
      "text/plain": [
       "((7317, 6), (10242, 6))"
      ]
     },
     "execution_count": 88,
     "metadata": {},
     "output_type": "execute_result"
    }
   ],
   "source": [
    "df5 = remove_rooms_outliers(df4)\n",
    "df5.shape,df4.shape"
   ]
  },
  {
   "cell_type": "code",
   "execution_count": 89,
   "id": "26c04b2c",
   "metadata": {},
   "outputs": [
    {
     "data": {
      "text/plain": [
       "(array([ 548., 3580., 2299.,  457.,  253.,  115.,   39.,   16.,    5.,\n",
       "           5.]),\n",
       " array([0.013     , 0.0362098 , 0.05941961, 0.08262941, 0.10583922,\n",
       "        0.12904902, 0.15225882, 0.17546863, 0.19867843, 0.22188824,\n",
       "        0.24509804]),\n",
       " <BarContainer object of 10 artists>)"
      ]
     },
     "execution_count": 89,
     "metadata": {},
     "output_type": "execute_result"
    },
    {
     "data": {
      "image/png": "[encoded data removed]",
      "text/plain": [
       "<Figure size 1080x720 with 1 Axes>"
      ]
     },
     "metadata": {
      "needs_background": "light"
     },
     "output_type": "display_data"
    }
   ],
   "source": [
    "plt.hist(df5.price_per_sqft,rwidth=0.8)"
   ]
  },
  {
   "cell_type": "code",
   "execution_count": 90,
   "id": "cc197592",
   "metadata": {},
   "outputs": [
    {
     "data": {
      "text/html": [
       "<div>\n",
       "<style scoped>\n",
       "    .dataframe tbody tr th:only-of-type {\n",
       "        vertical-align: middle;\n",
       "    }\n",
       "\n",
       "    .dataframe tbody tr th {\n",
       "        vertical-align: top;\n",
       "    }\n",
       "\n",
       "    .dataframe thead th {\n",
       "        text-align: right;\n",
       "    }\n",
       "</style>\n",
       "<table border=\"1\" class=\"dataframe\">\n",
       "  <thead>\n",
       "    <tr style=\"text-align: right;\">\n",
       "      <th></th>\n",
       "      <th>location</th>\n",
       "      <th>total_sqft</th>\n",
       "      <th>bath</th>\n",
       "      <th>price</th>\n",
       "      <th>bedrooms</th>\n",
       "      <th>price_per_sqft</th>\n",
       "    </tr>\n",
       "  </thead>\n",
       "  <tbody>\n",
       "    <tr>\n",
       "      <th>0</th>\n",
       "      <td>1st Block Jayanagar</td>\n",
       "      <td>2850.0</td>\n",
       "      <td>4.0</td>\n",
       "      <td>428.0</td>\n",
       "      <td>4</td>\n",
       "      <td>0.150175</td>\n",
       "    </tr>\n",
       "    <tr>\n",
       "      <th>1</th>\n",
       "      <td>1st Block Jayanagar</td>\n",
       "      <td>1630.0</td>\n",
       "      <td>3.0</td>\n",
       "      <td>194.0</td>\n",
       "      <td>3</td>\n",
       "      <td>0.119018</td>\n",
       "    </tr>\n",
       "    <tr>\n",
       "      <th>2</th>\n",
       "      <td>1st Block Jayanagar</td>\n",
       "      <td>1875.0</td>\n",
       "      <td>2.0</td>\n",
       "      <td>235.0</td>\n",
       "      <td>3</td>\n",
       "      <td>0.125333</td>\n",
       "    </tr>\n",
       "    <tr>\n",
       "      <th>3</th>\n",
       "      <td>1st Block Jayanagar</td>\n",
       "      <td>1200.0</td>\n",
       "      <td>2.0</td>\n",
       "      <td>130.0</td>\n",
       "      <td>3</td>\n",
       "      <td>0.108333</td>\n",
       "    </tr>\n",
       "    <tr>\n",
       "      <th>4</th>\n",
       "      <td>1st Block Jayanagar</td>\n",
       "      <td>1235.0</td>\n",
       "      <td>2.0</td>\n",
       "      <td>148.0</td>\n",
       "      <td>2</td>\n",
       "      <td>0.119838</td>\n",
       "    </tr>\n",
       "  </tbody>\n",
       "</table>\n",
       "</div>"
      ],
      "text/plain": [
       "              location  total_sqft  bath  price  bedrooms  price_per_sqft\n",
       "0  1st Block Jayanagar      2850.0   4.0  428.0         4        0.150175\n",
       "1  1st Block Jayanagar      1630.0   3.0  194.0         3        0.119018\n",
       "2  1st Block Jayanagar      1875.0   2.0  235.0         3        0.125333\n",
       "3  1st Block Jayanagar      1200.0   2.0  130.0         3        0.108333\n",
       "4  1st Block Jayanagar      1235.0   2.0  148.0         2        0.119838"
      ]
     },
     "execution_count": 90,
     "metadata": {},
     "output_type": "execute_result"
    }
   ],
   "source": [
    "df5.head()"
   ]
  },
  {
   "cell_type": "code",
   "execution_count": 91,
   "id": "74e8d825",
   "metadata": {},
   "outputs": [
    {
     "data": {
      "text/plain": [
       "array([ 4.,  3.,  2.,  5.,  8.,  1.,  6.,  7.,  9., 12., 16., 13.])"
      ]
     },
     "execution_count": 91,
     "metadata": {},
     "output_type": "execute_result"
    }
   ],
   "source": [
    "df5.bath.unique()"
   ]
  },
  {
   "cell_type": "code",
   "execution_count": 92,
   "id": "3efb8267",
   "metadata": {},
   "outputs": [
    {
     "data": {
      "text/plain": [
       "(7239, 6)"
      ]
     },
     "execution_count": 92,
     "metadata": {},
     "output_type": "execute_result"
    }
   ],
   "source": [
    "df5 = df5[df5.bath<df5.bedrooms+2]\n",
    "df5.shape"
   ]
  },
  {
   "cell_type": "code",
   "execution_count": 93,
   "id": "455517fb",
   "metadata": {},
   "outputs": [],
   "source": [
    "df5.drop('price_per_sqft',axis='columns',inplace=True)"
   ]
  },
  {
   "cell_type": "markdown",
   "id": "c801ca03",
   "metadata": {},
   "source": [
    "<h1> Lecture 5 model building</h1>"
   ]
  },
  {
   "cell_type": "code",
   "execution_count": 94,
   "id": "aaa72d16",
   "metadata": {},
   "outputs": [
    {
     "data": {
      "text/plain": [
       "241"
      ]
     },
     "execution_count": 94,
     "metadata": {},
     "output_type": "execute_result"
    }
   ],
   "source": [
    "len(df5.location.unique())"
   ]
  },
  {
   "cell_type": "code",
   "execution_count": 170,
   "id": "f02e926e",
   "metadata": {},
   "outputs": [
    {
     "data": {
      "text/plain": [
       "(7239, 244)"
      ]
     },
     "execution_count": 170,
     "metadata": {},
     "output_type": "execute_result"
    }
   ],
   "source": [
    "df6 = pd.get_dummies(data=df5,columns=['location'],drop_first=True)\n",
    "df6.shape"
   ]
  },
  {
   "cell_type": "code",
   "execution_count": 171,
   "id": "4096a2b2",
   "metadata": {},
   "outputs": [],
   "source": [
    "from sklearn.model_selection import train_test_split\n",
    "X = df6.drop('price',axis='columns')\n",
    "y = df6.price\n",
    "X_train,X_test,y_train,y_test = train_test_split(X,y,test_size=0.2,random_state=10)"
   ]
  },
  {
   "cell_type": "code",
   "execution_count": 172,
   "id": "73af1ebb",
   "metadata": {},
   "outputs": [
    {
     "data": {
      "text/plain": [
       "0.8629132245229371"
      ]
     },
     "execution_count": 172,
     "metadata": {},
     "output_type": "execute_result"
    }
   ],
   "source": [
    "from sklearn.linear_model import LinearRegression\n",
    "model = LinearRegression()\n",
    "model.fit(X_train,y_train)\n",
    "model.score(X_test,y_test)"
   ]
  },
  {
   "cell_type": "code",
   "execution_count": 173,
   "id": "88ab962c",
   "metadata": {},
   "outputs": [
    {
     "data": {
      "text/plain": [
       "array([0.79731455, 0.8136812 , 0.88838724, 0.84520114, 0.80286368])"
      ]
     },
     "execution_count": 173,
     "metadata": {},
     "output_type": "execute_result"
    }
   ],
   "source": [
    "from sklearn.model_selection import ShuffleSplit,cross_val_score\n",
    "\n",
    "cv = ShuffleSplit(n_splits=5,test_size=0.2)\n",
    "\n",
    "cross_val_score(LinearRegression(),X,y,cv=cv)"
   ]
  },
  {
   "cell_type": "code",
   "execution_count": 174,
   "id": "7100eddf",
   "metadata": {},
   "outputs": [],
   "source": [
    "from sklearn.model_selection import GridSearchCV\n",
    "from sklearn.svm import SVC\n",
    "from sklearn.tree import DecisionTreeRegressor\n",
    "\n",
    "def find_best_model(X,y):\n",
    "    algos = {\n",
    "        'linear_regression':{\n",
    "            'model': LinearRegression(),\n",
    "            'params':{\n",
    "                'normalize':[True,False]\n",
    "            }\n",
    "        },\n",
    "        \n",
    "        'decision_tree':{\n",
    "            'model':DecisionTreeRegressor(),\n",
    "            'params':{\n",
    "                'criterion':['mse','friedman_mse'],\n",
    "                'splitter':['best','random']\n",
    "            }\n",
    "        }\n",
    "    }\n",
    "    \n",
    "    score = []\n",
    "    cv = ShuffleSplit(n_splits=5,test_size=0.2,random_state=False)\n",
    "    \n",
    "    for algo_name,config in algos.items():\n",
    "        gs = GridSearchCV(config['model'],config['params'],cv=cv,return_train_score=False)\n",
    "        gs.fit(X,y)\n",
    "        \n",
    "        score.append({\n",
    "            'model':algo_name,\n",
    "            'best_score':gs.best_score_,\n",
    "            'best_params':gs.best_params_\n",
    "        })\n",
    "    return pd.DataFrame(score,columns=['model','best_score','best_params'])\n"
   ]
  },
  {
   "cell_type": "code",
   "execution_count": 175,
   "id": "d7c28212",
   "metadata": {},
   "outputs": [
    {
     "data": {
      "text/html": [
       "<div>\n",
       "<style scoped>\n",
       "    .dataframe tbody tr th:only-of-type {\n",
       "        vertical-align: middle;\n",
       "    }\n",
       "\n",
       "    .dataframe tbody tr th {\n",
       "        vertical-align: top;\n",
       "    }\n",
       "\n",
       "    .dataframe thead th {\n",
       "        text-align: right;\n",
       "    }\n",
       "</style>\n",
       "<table border=\"1\" class=\"dataframe\">\n",
       "  <thead>\n",
       "    <tr style=\"text-align: right;\">\n",
       "      <th></th>\n",
       "      <th>model</th>\n",
       "      <th>best_score</th>\n",
       "      <th>best_params</th>\n",
       "    </tr>\n",
       "  </thead>\n",
       "  <tbody>\n",
       "    <tr>\n",
       "      <th>0</th>\n",
       "      <td>linear_regression</td>\n",
       "      <td>0.847796</td>\n",
       "      <td>{'normalize': True}</td>\n",
       "    </tr>\n",
       "    <tr>\n",
       "      <th>1</th>\n",
       "      <td>decision_tree</td>\n",
       "      <td>0.764591</td>\n",
       "      <td>{'criterion': 'mse', 'splitter': 'best'}</td>\n",
       "    </tr>\n",
       "  </tbody>\n",
       "</table>\n",
       "</div>"
      ],
      "text/plain": [
       "               model  best_score                               best_params\n",
       "0  linear_regression    0.847796                       {'normalize': True}\n",
       "1      decision_tree    0.764591  {'criterion': 'mse', 'splitter': 'best'}"
      ]
     },
     "execution_count": 175,
     "metadata": {},
     "output_type": "execute_result"
    }
   ],
   "source": [
    "models_df = find_best_model(X,y)\n",
    "models_df"
   ]
  },
  {
   "cell_type": "code",
   "execution_count": 176,
   "id": "aa8fb2ca",
   "metadata": {},
   "outputs": [],
   "source": [
    "# linear regression model from df6\n",
    "import pickle\n",
    "with open('banglore_home_price_model.pickle','wb') as f:\n",
    "    pickle.dump(model,f)"
   ]
  },
  {
   "cell_type": "code",
   "execution_count": 177,
   "id": "62837fbe",
   "metadata": {},
   "outputs": [
    {
     "data": {
      "text/plain": [
       "Index(['total_sqft', 'bath', 'bedrooms', 'location_1st Phase JP Nagar',\n",
       "       'location_2nd Phase Judicial Layout', 'location_2nd Stage Nagarbhavi',\n",
       "       'location_5th Block Hbr Layout', 'location_5th Phase JP Nagar',\n",
       "       'location_6th Phase JP Nagar', 'location_7th Phase JP Nagar',\n",
       "       ...\n",
       "       'location_Vishveshwarya Layout', 'location_Vishwapriya Layout',\n",
       "       'location_Vittasandra', 'location_Whitefield',\n",
       "       'location_Yelachenahalli', 'location_Yelahanka',\n",
       "       'location_Yelahanka New Town', 'location_Yelenahalli',\n",
       "       'location_Yeshwanthpur', 'location_other'],\n",
       "      dtype='object', length=243)"
      ]
     },
     "execution_count": 177,
     "metadata": {},
     "output_type": "execute_result"
    }
   ],
   "source": [
    "X.columns"
   ]
  },
  {
   "cell_type": "code",
   "execution_count": 178,
   "id": "42487774",
   "metadata": {},
   "outputs": [],
   "source": [
    "def predict_price(location,area,bath,bedrooms):\n",
    "    # here model is our fitted model\n",
    "    location = location\n",
    "    if location in X.columns:\n",
    "        loc_index = np.where(X.columns == location)[0][0]\n",
    "    else:\n",
    "        loc_index = np.where(X.columns=='other')[0][0]\n",
    "    x = np.zeros(len(X.columns))\n",
    "    x[0],x[1],x[2] = area,bath,bedrooms\n",
    "    x[loc_index] = 1\n",
    "    \n",
    "    return model.predict([x])[0]"
   ]
  },
  {
   "cell_type": "code",
   "execution_count": 179,
   "id": "b64c30fb",
   "metadata": {},
   "outputs": [
    {
     "data": {
      "text/plain": [
       "195.52689759855778"
      ]
     },
     "execution_count": 179,
     "metadata": {},
     "output_type": "execute_result"
    }
   ],
   "source": [
    "predict_price('Indira Nagar',1000,3,3)"
   ]
  },
  {
   "cell_type": "code",
   "execution_count": 180,
   "id": "617f6aac",
   "metadata": {},
   "outputs": [
    {
     "data": {
      "text/html": [
       "<div>\n",
       "<style scoped>\n",
       "    .dataframe tbody tr th:only-of-type {\n",
       "        vertical-align: middle;\n",
       "    }\n",
       "\n",
       "    .dataframe tbody tr th {\n",
       "        vertical-align: top;\n",
       "    }\n",
       "\n",
       "    .dataframe thead th {\n",
       "        text-align: right;\n",
       "    }\n",
       "</style>\n",
       "<table border=\"1\" class=\"dataframe\">\n",
       "  <thead>\n",
       "    <tr style=\"text-align: right;\">\n",
       "      <th></th>\n",
       "      <th>total_sqft</th>\n",
       "      <th>bath</th>\n",
       "      <th>price</th>\n",
       "      <th>bedrooms</th>\n",
       "      <th>1st Phase JP Nagar</th>\n",
       "      <th>2nd Phase Judicial Layout</th>\n",
       "      <th>2nd Stage Nagarbhavi</th>\n",
       "      <th>5th Block Hbr Layout</th>\n",
       "      <th>5th Phase JP Nagar</th>\n",
       "      <th>6th Phase JP Nagar</th>\n",
       "      <th>...</th>\n",
       "      <th>Vishveshwarya Layout</th>\n",
       "      <th>Vishwapriya Layout</th>\n",
       "      <th>Vittasandra</th>\n",
       "      <th>Whitefield</th>\n",
       "      <th>Yelachenahalli</th>\n",
       "      <th>Yelahanka</th>\n",
       "      <th>Yelahanka New Town</th>\n",
       "      <th>Yelenahalli</th>\n",
       "      <th>Yeshwanthpur</th>\n",
       "      <th>other</th>\n",
       "    </tr>\n",
       "  </thead>\n",
       "  <tbody>\n",
       "    <tr>\n",
       "      <th>0</th>\n",
       "      <td>2850.0</td>\n",
       "      <td>4.0</td>\n",
       "      <td>428.0</td>\n",
       "      <td>4</td>\n",
       "      <td>0</td>\n",
       "      <td>0</td>\n",
       "      <td>0</td>\n",
       "      <td>0</td>\n",
       "      <td>0</td>\n",
       "      <td>0</td>\n",
       "      <td>...</td>\n",
       "      <td>0</td>\n",
       "      <td>0</td>\n",
       "      <td>0</td>\n",
       "      <td>0</td>\n",
       "      <td>0</td>\n",
       "      <td>0</td>\n",
       "      <td>0</td>\n",
       "      <td>0</td>\n",
       "      <td>0</td>\n",
       "      <td>0</td>\n",
       "    </tr>\n",
       "    <tr>\n",
       "      <th>1</th>\n",
       "      <td>1630.0</td>\n",
       "      <td>3.0</td>\n",
       "      <td>194.0</td>\n",
       "      <td>3</td>\n",
       "      <td>0</td>\n",
       "      <td>0</td>\n",
       "      <td>0</td>\n",
       "      <td>0</td>\n",
       "      <td>0</td>\n",
       "      <td>0</td>\n",
       "      <td>...</td>\n",
       "      <td>0</td>\n",
       "      <td>0</td>\n",
       "      <td>0</td>\n",
       "      <td>0</td>\n",
       "      <td>0</td>\n",
       "      <td>0</td>\n",
       "      <td>0</td>\n",
       "      <td>0</td>\n",
       "      <td>0</td>\n",
       "      <td>0</td>\n",
       "    </tr>\n",
       "    <tr>\n",
       "      <th>2</th>\n",
       "      <td>1875.0</td>\n",
       "      <td>2.0</td>\n",
       "      <td>235.0</td>\n",
       "      <td>3</td>\n",
       "      <td>0</td>\n",
       "      <td>0</td>\n",
       "      <td>0</td>\n",
       "      <td>0</td>\n",
       "      <td>0</td>\n",
       "      <td>0</td>\n",
       "      <td>...</td>\n",
       "      <td>0</td>\n",
       "      <td>0</td>\n",
       "      <td>0</td>\n",
       "      <td>0</td>\n",
       "      <td>0</td>\n",
       "      <td>0</td>\n",
       "      <td>0</td>\n",
       "      <td>0</td>\n",
       "      <td>0</td>\n",
       "      <td>0</td>\n",
       "    </tr>\n",
       "    <tr>\n",
       "      <th>3</th>\n",
       "      <td>1200.0</td>\n",
       "      <td>2.0</td>\n",
       "      <td>130.0</td>\n",
       "      <td>3</td>\n",
       "      <td>0</td>\n",
       "      <td>0</td>\n",
       "      <td>0</td>\n",
       "      <td>0</td>\n",
       "      <td>0</td>\n",
       "      <td>0</td>\n",
       "      <td>...</td>\n",
       "      <td>0</td>\n",
       "      <td>0</td>\n",
       "      <td>0</td>\n",
       "      <td>0</td>\n",
       "      <td>0</td>\n",
       "      <td>0</td>\n",
       "      <td>0</td>\n",
       "      <td>0</td>\n",
       "      <td>0</td>\n",
       "      <td>0</td>\n",
       "    </tr>\n",
       "    <tr>\n",
       "      <th>4</th>\n",
       "      <td>1235.0</td>\n",
       "      <td>2.0</td>\n",
       "      <td>148.0</td>\n",
       "      <td>2</td>\n",
       "      <td>0</td>\n",
       "      <td>0</td>\n",
       "      <td>0</td>\n",
       "      <td>0</td>\n",
       "      <td>0</td>\n",
       "      <td>0</td>\n",
       "      <td>...</td>\n",
       "      <td>0</td>\n",
       "      <td>0</td>\n",
       "      <td>0</td>\n",
       "      <td>0</td>\n",
       "      <td>0</td>\n",
       "      <td>0</td>\n",
       "      <td>0</td>\n",
       "      <td>0</td>\n",
       "      <td>0</td>\n",
       "      <td>0</td>\n",
       "    </tr>\n",
       "  </tbody>\n",
       "</table>\n",
       "<p>5 rows × 244 columns</p>\n",
       "</div>"
      ],
      "text/plain": [
       "   total_sqft  bath  price  bedrooms  1st Phase JP Nagar  \\\n",
       "0      2850.0   4.0  428.0         4                   0   \n",
       "1      1630.0   3.0  194.0         3                   0   \n",
       "2      1875.0   2.0  235.0         3                   0   \n",
       "3      1200.0   2.0  130.0         3                   0   \n",
       "4      1235.0   2.0  148.0         2                   0   \n",
       "\n",
       "   2nd Phase Judicial Layout  2nd Stage Nagarbhavi  5th Block Hbr Layout  \\\n",
       "0                          0                     0                     0   \n",
       "1                          0                     0                     0   \n",
       "2                          0                     0                     0   \n",
       "3                          0                     0                     0   \n",
       "4                          0                     0                     0   \n",
       "\n",
       "   5th Phase JP Nagar  6th Phase JP Nagar  ...  Vishveshwarya Layout  \\\n",
       "0                   0                   0  ...                     0   \n",
       "1                   0                   0  ...                     0   \n",
       "2                   0                   0  ...                     0   \n",
       "3                   0                   0  ...                     0   \n",
       "4                   0                   0  ...                     0   \n",
       "\n",
       "   Vishwapriya Layout  Vittasandra  Whitefield  Yelachenahalli  Yelahanka  \\\n",
       "0                   0            0           0               0          0   \n",
       "1                   0            0           0               0          0   \n",
       "2                   0            0           0               0          0   \n",
       "3                   0            0           0               0          0   \n",
       "4                   0            0           0               0          0   \n",
       "\n",
       "   Yelahanka New Town  Yelenahalli  Yeshwanthpur  other  \n",
       "0                   0            0             0      0  \n",
       "1                   0            0             0      0  \n",
       "2                   0            0             0      0  \n",
       "3                   0            0             0      0  \n",
       "4                   0            0             0      0  \n",
       "\n",
       "[5 rows x 244 columns]"
      ]
     },
     "execution_count": 180,
     "metadata": {},
     "output_type": "execute_result"
    }
   ],
   "source": [
    "df6.columns = [x.replace('location_','') for x in df6.columns]\n",
    "X.columns = [x.replace('location_','') for x in X.columns]\n",
    "df6.head()"
   ]
  },
  {
   "cell_type": "code",
   "execution_count": 181,
   "id": "e0f2fa40",
   "metadata": {},
   "outputs": [],
   "source": [
    "df6.to_csv('modified_final_version.csv',index=False)"
   ]
  },
  {
   "cell_type": "code",
   "execution_count": 182,
   "id": "6c39630b",
   "metadata": {},
   "outputs": [],
   "source": [
    "import json\n",
    "columns = {\n",
    "    'data_columns':[col.lower() for col in X.columns]\n",
    "}\n",
    "\n",
    "with open('columns.json','w') as f:\n",
    "    f.write(json.dumps(columns))"
   ]
  }
 ],
 "metadata": {
  "kernelspec": {
   "display_name": "Python 3 (ipykernel)",
   "language": "python",
   "name": "python3"
  },
  "language_info": {
   "codemirror_mode": {
    "name": "ipython",
    "version": 3
   },
   "file_extension": ".py",
   "mimetype": "text/x-python",
   "name": "python",
   "nbconvert_exporter": "python",
   "pygments_lexer": "ipython3",
   "version": "3.9.4"
  }
 },
 "nbformat": 4,
 "nbformat_minor": 5
}
